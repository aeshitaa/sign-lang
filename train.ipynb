{
 "cells": [
  {
   "cell_type": "code",
   "execution_count": 1,
   "metadata": {},
   "outputs": [],
   "source": [
    "from keras.models import Sequential\n",
    "from keras.layers import Convolution2D\n",
    "from keras.layers import MaxPooling2D\n",
    "from keras.layers import Flatten\n",
    "from keras.layers import Dense, Dropout\n",
    "import os\n"
   ]
  },
  {
   "cell_type": "code",
   "execution_count": 2,
   "metadata": {},
   "outputs": [],
   "source": [
    "classifier = Sequential()"
   ]
  },
  {
   "cell_type": "code",
   "execution_count": 3,
   "metadata": {},
   "outputs": [],
   "source": [
    "classifier.add(Convolution2D(32, (3, 3), input_shape=(128, 128, 1), activation='relu'))\n",
    "classifier.add(MaxPooling2D(pool_size=(2, 2)))"
   ]
  },
  {
   "cell_type": "code",
   "execution_count": 4,
   "metadata": {},
   "outputs": [],
   "source": [
    "classifier.add(Convolution2D(32, (3, 3), activation='relu'))\n",
    "classifier.add(MaxPooling2D(pool_size=(2, 2)))\n"
   ]
  },
  {
   "cell_type": "code",
   "execution_count": 5,
   "metadata": {},
   "outputs": [],
   "source": [
    "classifier.add(Flatten())"
   ]
  },
  {
   "cell_type": "code",
   "execution_count": 6,
   "metadata": {},
   "outputs": [],
   "source": [
    "classifier.add(Dense(units=128, activation='relu'))\n",
    "classifier.add(Dropout(0.40))\n",
    "classifier.add(Dense(units=96, activation='relu'))\n",
    "classifier.add(Dropout(0.40))\n",
    "classifier.add(Dense(units=64, activation='relu'))\n",
    "classifier.add(Dense(units=26, activation='softmax'))"
   ]
  },
  {
   "cell_type": "code",
   "execution_count": 7,
   "metadata": {},
   "outputs": [],
   "source": [
    "classifier.compile(optimizer='adam', loss='categorical_crossentropy', metrics=['accuracy']) "
   ]
  },
  {
   "cell_type": "code",
   "execution_count": null,
   "metadata": {},
   "outputs": [],
   "source": [
    "classifier.summary()"
   ]
  },
  {
   "cell_type": "code",
   "execution_count": 8,
   "metadata": {},
   "outputs": [],
   "source": [
    "from keras.preprocessing.image import ImageDataGenerator"
   ]
  },
  {
   "cell_type": "code",
   "execution_count": 9,
   "metadata": {},
   "outputs": [],
   "source": [
    "train_datagen = ImageDataGenerator(\n",
    "        rescale=1./255,\n",
    "        shear_range=0.2,\n",
    "        zoom_range=0.2,\n",
    "        horizontal_flip=True)"
   ]
  },
  {
   "cell_type": "code",
   "execution_count": 12,
   "metadata": {},
   "outputs": [
    {
     "name": "stdout",
     "output_type": "stream",
     "text": [
      "Found 7800 images belonging to 26 classes.\n",
      "Found 1300 images belonging to 26 classes.\n"
     ]
    }
   ],
   "source": [
    "test_datagen = ImageDataGenerator(rescale=1./255)\n",
    "training_set = train_datagen.flow_from_directory('data/train',\n",
    "                                                 target_size=(128, 128),\n",
    "                                                 batch_size=1,\n",
    "                                                 color_mode='grayscale',\n",
    "                                                 class_mode='categorical')\n",
    "\n",
    "test_set = test_datagen.flow_from_directory('data/test',\n",
    "                                            target_size=(128 , 128),\n",
    "                                            batch_size=1,\n",
    "                                            color_mode='grayscale',\n",
    "                                            class_mode='categorical') \n"
   ]
  },
  {
   "cell_type": "code",
   "execution_count": 13,
   "metadata": {},
   "outputs": [
    {
     "name": "stdout",
     "output_type": "stream",
     "text": [
      "Epoch 1/10\n",
      "   7/7800 [..............................] - ETA: 2:10 - loss: 1.0437 - accuracy: 0.5714"
     ]
    },
    {
     "name": "stderr",
     "output_type": "stream",
     "text": [
      "C:\\Users\\aeshi\\anaconda3\\lib\\site-packages\\keras\\engine\\training.py:1915: UserWarning: `Model.fit_generator` is deprecated and will be removed in a future version. Please use `Model.fit`, which supports generators.\n",
      "  warnings.warn('`Model.fit_generator` is deprecated and '\n"
     ]
    },
    {
     "name": "stdout",
     "output_type": "stream",
     "text": [
      "7800/7800 [==============================] - 153s 20ms/step - loss: 1.0991 - accuracy: 0.6482 - val_loss: 1.8751 - val_accuracy: 0.4669\n",
      "Epoch 2/10\n",
      "7800/7800 [==============================] - 160s 21ms/step - loss: 0.7222 - accuracy: 0.7729 - val_loss: 1.9575 - val_accuracy: 0.5115\n",
      "Epoch 3/10\n",
      "7800/7800 [==============================] - 177s 23ms/step - loss: 0.6060 - accuracy: 0.8103 - val_loss: 2.5676 - val_accuracy: 0.4408\n",
      "Epoch 4/10\n",
      "7800/7800 [==============================] - 193s 25ms/step - loss: 0.5331 - accuracy: 0.8404 - val_loss: 2.9446 - val_accuracy: 0.4877\n",
      "Epoch 5/10\n",
      "7800/7800 [==============================] - 175s 22ms/step - loss: 0.4601 - accuracy: 0.8587 - val_loss: 2.3926 - val_accuracy: 0.4923\n",
      "Epoch 6/10\n",
      "7800/7800 [==============================] - 172s 22ms/step - loss: 0.4400 - accuracy: 0.8715 - val_loss: 2.6694 - val_accuracy: 0.5015\n",
      "Epoch 7/10\n",
      "7800/7800 [==============================] - 201s 26ms/step - loss: 0.3991 - accuracy: 0.8821 - val_loss: 3.1310 - val_accuracy: 0.4662\n",
      "Epoch 8/10\n",
      "7800/7800 [==============================] - 183s 23ms/step - loss: 0.3809 - accuracy: 0.8869 - val_loss: 3.0022 - val_accuracy: 0.4962\n",
      "Epoch 9/10\n",
      "7800/7800 [==============================] - 192s 25ms/step - loss: 0.3881 - accuracy: 0.8918 - val_loss: 2.5588 - val_accuracy: 0.5062\n",
      "Epoch 10/10\n",
      "7800/7800 [==============================] - 206s 26ms/step - loss: 0.3470 - accuracy: 0.8983 - val_loss: 3.2541 - val_accuracy: 0.4838\n"
     ]
    },
    {
     "data": {
      "text/plain": [
       "<keras.callbacks.History at 0x1404de04d60>"
      ]
     },
     "execution_count": 13,
     "metadata": {},
     "output_type": "execute_result"
    }
   ],
   "source": [
    "classifier.fit_generator(\n",
    "        training_set,\n",
    "        steps_per_epoch=7800, \n",
    "        epochs=10,\n",
    "        validation_data=test_set,\n",
    "        validation_steps=1300)"
   ]
  },
  {
   "cell_type": "code",
   "execution_count": 14,
   "metadata": {},
   "outputs": [
    {
     "name": "stdout",
     "output_type": "stream",
     "text": [
      "Model Saved\n",
      "Weights saved\n"
     ]
    }
   ],
   "source": [
    "model_json = classifier.to_json()\n",
    "with open(\"model-bw.json\", \"w\") as json_file:\n",
    "    json_file.write(model_json)\n",
    "print('Model Saved')\n",
    "classifier.save_weights('model-bw.h5')\n",
    "print('Weights saved')"
   ]
  },
  {
   "cell_type": "code",
   "execution_count": null,
   "metadata": {},
   "outputs": [],
   "source": []
  }
 ],
 "metadata": {
  "kernelspec": {
   "display_name": "Python 3",
   "language": "python",
   "name": "python3"
  },
  "language_info": {
   "codemirror_mode": {
    "name": "ipython",
    "version": 3
   },
   "file_extension": ".py",
   "mimetype": "text/x-python",
   "name": "python",
   "nbconvert_exporter": "python",
   "pygments_lexer": "ipython3",
   "version": "3.8.3"
  }
 },
 "nbformat": 4,
 "nbformat_minor": 4
}
