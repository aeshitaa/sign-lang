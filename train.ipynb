{
 "cells": [
  {
   "cell_type": "code",
   "execution_count": 1,
   "metadata": {},
   "outputs": [
    {
     "name": "stderr",
     "output_type": "stream",
     "text": [
      "Using TensorFlow backend.\n"
     ]
    },
    {
     "name": "stdout",
     "output_type": "stream",
     "text": [
      "Model: \"sequential_1\"\n",
      "_________________________________________________________________\n",
      "Layer (type)                 Output Shape              Param #   \n",
      "=================================================================\n",
      "conv2d_1 (Conv2D)            (None, 126, 126, 32)      320       \n",
      "_________________________________________________________________\n",
      "max_pooling2d_1 (MaxPooling2 (None, 63, 63, 32)        0         \n",
      "_________________________________________________________________\n",
      "conv2d_2 (Conv2D)            (None, 61, 61, 32)        9248      \n",
      "_________________________________________________________________\n",
      "max_pooling2d_2 (MaxPooling2 (None, 30, 30, 32)        0         \n",
      "_________________________________________________________________\n",
      "flatten_1 (Flatten)          (None, 28800)             0         \n",
      "_________________________________________________________________\n",
      "dense_1 (Dense)              (None, 128)               3686528   \n",
      "_________________________________________________________________\n",
      "dropout_1 (Dropout)          (None, 128)               0         \n",
      "_________________________________________________________________\n",
      "dense_2 (Dense)              (None, 96)                12384     \n",
      "_________________________________________________________________\n",
      "dropout_2 (Dropout)          (None, 96)                0         \n",
      "_________________________________________________________________\n",
      "dense_3 (Dense)              (None, 64)                6208      \n",
      "_________________________________________________________________\n",
      "dense_4 (Dense)              (None, 26)                1690      \n",
      "=================================================================\n",
      "Total params: 3,716,378\n",
      "Trainable params: 3,716,378\n",
      "Non-trainable params: 0\n",
      "_________________________________________________________________\n"
     ]
    }
   ],
   "source": [
    "from keras.models import Sequential\n",
    "from keras.layers import Convolution2D\n",
    "from keras.layers import MaxPooling2D\n",
    "from keras.layers import Flatten\n",
    "from keras.layers import Dense , Dropout\n",
    "import os\n",
    "\n",
    "sz = 128\n",
    "classifier = Sequential()\n",
    "\n",
    "classifier.add(Convolution2D(32, (3, 3), input_shape=(sz, sz, 1), activation='relu'))\n",
    "classifier.add(MaxPooling2D(pool_size=(2, 2)))\n",
    "# Second convolution layer and pooling\n",
    "classifier.add(Convolution2D(32, (3, 3), activation='relu'))\n",
    "# input_shape is going to be the pooled feature maps from the previous convolution layer\n",
    "classifier.add(MaxPooling2D(pool_size=(2, 2)))\n",
    "#classifier.add(Convolution2D(32, (3, 3), activation='relu'))\n",
    "# input_shape is going to be the pooled feature maps from the previous convolution layer\n",
    "#classifier.add(MaxPooling2D(pool_size=(2, 2)))\n",
    "\n",
    "# Flattening the layers\n",
    "classifier.add(Flatten())\n",
    "\n",
    "# Adding a fully connected layer\n",
    "classifier.add(Dense(units=128, activation='relu'))\n",
    "classifier.add(Dropout(0.40))\n",
    "classifier.add(Dense(units=96, activation='relu'))\n",
    "classifier.add(Dropout(0.40))\n",
    "classifier.add(Dense(units=64, activation='relu'))\n",
    "classifier.add(Dense(units=26, activation='softmax')) \n",
    "\n",
    "\n",
    "classifier.compile(optimizer='adam', loss='categorical_crossentropy', metrics=['accuracy']) \n",
    "\n",
    "\n",
    "classifier.summary()\n",
    "\n"
   ]
  },
  {
   "cell_type": "code",
   "execution_count": 3,
   "metadata": {},
   "outputs": [
    {
     "name": "stdout",
     "output_type": "stream",
     "text": [
      "Found 11852 images belonging to 26 classes.\n",
      "Found 4810 images belonging to 26 classes.\n"
     ]
    }
   ],
   "source": [
    "from keras.preprocessing.image import ImageDataGenerator\n",
    "\n",
    "train_datagen = ImageDataGenerator(\n",
    "        rescale=1./255,\n",
    "        shear_range=0.2,\n",
    "        zoom_range=0.2,\n",
    "        horizontal_flip=True)\n",
    "\n",
    "test_datagen = ImageDataGenerator(rescale=1./255)\n",
    "\n",
    "training_set = train_datagen.flow_from_directory('data/train',\n",
    "                                                 target_size=(sz, sz),\n",
    "                                                 batch_size=10,\n",
    "                                                 color_mode='grayscale',\n",
    "                                                 class_mode='categorical')\n",
    "\n",
    "test_set = test_datagen.flow_from_directory('data/test4',\n",
    "                                            target_size=(sz , sz),\n",
    "                                            batch_size=10,\n",
    "                                            color_mode='grayscale',\n",
    "                                            class_mode='categorical') \n"
   ]
  },
  {
   "cell_type": "code",
   "execution_count": 4,
   "metadata": {},
   "outputs": [
    {
     "name": "stdout",
     "output_type": "stream",
     "text": [
      "Epoch 1/30\n",
      "1186/1186 [==============================] - 179s 151ms/step - loss: 3.2617 - accuracy: 0.0371 - val_loss: 3.2641 - val_accuracy: 0.0385\n",
      "Epoch 2/30\n",
      "1186/1186 [==============================] - 175s 147ms/step - loss: 3.2609 - accuracy: 0.0392 - val_loss: 3.2416 - val_accuracy: 0.0399\n",
      "Epoch 3/30\n",
      "1186/1186 [==============================] - 174s 146ms/step - loss: 2.4867 - accuracy: 0.2368 - val_loss: 0.6997 - val_accuracy: 0.7815\n",
      "Epoch 4/30\n",
      "1186/1186 [==============================] - 176s 148ms/step - loss: 0.9883 - accuracy: 0.6650 - val_loss: 0.9446 - val_accuracy: 0.9198\n",
      "Epoch 5/30\n",
      "1186/1186 [==============================] - 163s 137ms/step - loss: 0.6424 - accuracy: 0.7821 - val_loss: 2.3622 - val_accuracy: 0.9081\n",
      "Epoch 6/30\n",
      "1186/1186 [==============================] - 145s 122ms/step - loss: 0.4737 - accuracy: 0.8410 - val_loss: 0.0034 - val_accuracy: 0.9653\n",
      "Epoch 7/30\n",
      "1186/1186 [==============================] - 170s 143ms/step - loss: 0.3728 - accuracy: 0.8737 - val_loss: 0.1604 - val_accuracy: 0.9593\n",
      "Epoch 8/30\n",
      "1186/1186 [==============================] - 187s 158ms/step - loss: 0.3221 - accuracy: 0.8931 - val_loss: 0.0419 - val_accuracy: 0.9771\n",
      "Epoch 9/30\n",
      "1186/1186 [==============================] - 181s 153ms/step - loss: 0.2775 - accuracy: 0.9079 - val_loss: 0.0140 - val_accuracy: 0.9680\n",
      "Epoch 10/30\n",
      "1186/1186 [==============================] - 185s 156ms/step - loss: 0.2433 - accuracy: 0.9219 - val_loss: 0.0041 - val_accuracy: 0.9738\n",
      "Epoch 11/30\n",
      "1186/1186 [==============================] - 177s 149ms/step - loss: 0.2253 - accuracy: 0.9287 - val_loss: 0.0011 - val_accuracy: 0.9753\n",
      "Epoch 12/30\n",
      "1186/1186 [==============================] - 177s 149ms/step - loss: 0.2053 - accuracy: 0.9358 - val_loss: 5.1475e-04 - val_accuracy: 0.9784\n",
      "Epoch 13/30\n",
      "1186/1186 [==============================] - 178s 150ms/step - loss: 0.2004 - accuracy: 0.9387 - val_loss: 3.2986e-04 - val_accuracy: 0.9796\n",
      "Epoch 14/30\n",
      "1186/1186 [==============================] - 180s 152ms/step - loss: 0.1840 - accuracy: 0.9436 - val_loss: 1.7795e-04 - val_accuracy: 0.9744\n",
      "Epoch 15/30\n",
      "1186/1186 [==============================] - 184s 155ms/step - loss: 0.1690 - accuracy: 0.9492 - val_loss: 1.7251 - val_accuracy: 0.9790\n",
      "Epoch 16/30\n",
      "1186/1186 [==============================] - 192s 162ms/step - loss: 0.1606 - accuracy: 0.9496 - val_loss: 0.0036 - val_accuracy: 0.9778\n",
      "Epoch 17/30\n",
      "1186/1186 [==============================] - 189s 159ms/step - loss: 0.1577 - accuracy: 0.9537 - val_loss: 0.0050 - val_accuracy: 0.9794\n",
      "Epoch 18/30\n",
      "1186/1186 [==============================] - 195s 165ms/step - loss: 0.1421 - accuracy: 0.9568 - val_loss: 0.0012 - val_accuracy: 0.9809\n",
      "Epoch 19/30\n",
      "1186/1186 [==============================] - 181s 153ms/step - loss: 0.1437 - accuracy: 0.9574 - val_loss: 0.1795 - val_accuracy: 0.9782\n",
      "Epoch 20/30\n",
      "1186/1186 [==============================] - 188s 158ms/step - loss: 0.1404 - accuracy: 0.9571 - val_loss: 3.8741e-05 - val_accuracy: 0.9778\n",
      "Epoch 21/30\n",
      "1186/1186 [==============================] - 202s 170ms/step - loss: 0.1358 - accuracy: 0.9598 - val_loss: 0.7130 - val_accuracy: 0.9734\n",
      "Epoch 22/30\n",
      "1186/1186 [==============================] - 188s 159ms/step - loss: 0.1449 - accuracy: 0.9571 - val_loss: 5.4110e-04 - val_accuracy: 0.9767\n",
      "Epoch 23/30\n",
      "1186/1186 [==============================] - 181s 152ms/step - loss: 0.1217 - accuracy: 0.9632 - val_loss: 0.3276 - val_accuracy: 0.9726\n",
      "Epoch 24/30\n",
      "1186/1186 [==============================] - 192s 162ms/step - loss: 0.1280 - accuracy: 0.9616 - val_loss: 1.0526e-05 - val_accuracy: 0.9792\n",
      "Epoch 25/30\n",
      "1186/1186 [==============================] - 194s 164ms/step - loss: 0.1214 - accuracy: 0.9630 - val_loss: 1.8815 - val_accuracy: 0.9740\n",
      "Epoch 26/30\n",
      "1186/1186 [==============================] - 181s 152ms/step - loss: 0.1066 - accuracy: 0.9684 - val_loss: 6.6429e-04 - val_accuracy: 0.9778\n",
      "Epoch 27/30\n",
      "1186/1186 [==============================] - 178s 150ms/step - loss: 0.1115 - accuracy: 0.9648 - val_loss: 1.2767e-05 - val_accuracy: 0.9811\n",
      "Epoch 28/30\n",
      "1186/1186 [==============================] - 177s 150ms/step - loss: 0.1112 - accuracy: 0.9679 - val_loss: 0.0011 - val_accuracy: 0.9778\n",
      "Epoch 29/30\n",
      "1186/1186 [==============================] - 185s 156ms/step - loss: 0.1058 - accuracy: 0.9687 - val_loss: 7.4236e-04 - val_accuracy: 0.9755\n",
      "Epoch 30/30\n",
      "1186/1186 [==============================] - 182s 154ms/step - loss: 0.1039 - accuracy: 0.9708 - val_loss: 0.0019 - val_accuracy: 0.9769\n"
     ]
    }
   ],
   "source": [
    "r=classifier.fit_generator(\n",
    "        training_set,    \n",
    "        epochs=30,\n",
    "        validation_data=test_set,\n",
    "    steps_per_epoch=len(training_set),\n",
    "  validation_steps=len(test_set)\n",
    "        )"
   ]
  },
  {
   "cell_type": "code",
   "execution_count": 5,
   "metadata": {},
   "outputs": [],
   "source": [
    "classifier.save('CNNarch.h5')"
   ]
  },
  {
   "cell_type": "code",
   "execution_count": 8,
   "metadata": {},
   "outputs": [
    {
     "name": "stdout",
     "output_type": "stream",
     "text": [
      "Collecting matplotlib\n",
      "  Downloading matplotlib-3.3.4-cp36-cp36m-win_amd64.whl (8.5 MB)\n",
      "Requirement already satisfied: numpy>=1.15 in c:\\users\\aeshi\\anaconda3\\envs\\tensorflow_env\\lib\\site-packages (from matplotlib) (1.19.2)\n",
      "Requirement already satisfied: python-dateutil>=2.1 in c:\\users\\aeshi\\anaconda3\\envs\\tensorflow_env\\lib\\site-packages (from matplotlib) (2.8.2)\n",
      "Collecting cycler>=0.10\n",
      "  Downloading cycler-0.10.0-py2.py3-none-any.whl (6.5 kB)\n",
      "Requirement already satisfied: pyparsing!=2.0.4,!=2.1.2,!=2.1.6,>=2.0.3 in c:\\users\\aeshi\\anaconda3\\envs\\tensorflow_env\\lib\\site-packages (from matplotlib) (2.4.7)\n",
      "Requirement already satisfied: pillow>=6.2.0 in c:\\users\\aeshi\\anaconda3\\envs\\tensorflow_env\\lib\\site-packages (from matplotlib) (8.3.2)\n",
      "Collecting kiwisolver>=1.0.1\n",
      "  Downloading kiwisolver-1.3.1-cp36-cp36m-win_amd64.whl (51 kB)\n",
      "Requirement already satisfied: six in c:\\users\\aeshi\\anaconda3\\envs\\tensorflow_env\\lib\\site-packages (from cycler>=0.10->matplotlib) (1.16.0)\n",
      "Installing collected packages: kiwisolver, cycler, matplotlib\n",
      "Successfully installed cycler-0.10.0 kiwisolver-1.3.1 matplotlib-3.3.4\n",
      "Note: you may need to restart the kernel to use updated packages.\n"
     ]
    }
   ],
   "source": [
    "pip install matplotlib"
   ]
  },
  {
   "cell_type": "code",
   "execution_count": 9,
   "metadata": {},
   "outputs": [],
   "source": [
    "import matplotlib.pyplot as plt"
   ]
  },
  {
   "cell_type": "code",
   "execution_count": 10,
   "metadata": {},
   "outputs": [
    {
     "data": {
      "image/png": "[encoded data removed]",
      "text/plain": [
       "<Figure size 432x288 with 1 Axes>"
      ]
     },
     "metadata": {
      "needs_background": "light"
     },
     "output_type": "display_data"
    },
    {
     "data": {
      "text/plain": [
       "<Figure size 432x288 with 0 Axes>"
      ]
     },
     "metadata": {},
     "output_type": "display_data"
    }
   ],
   "source": [
    "plt.plot(r.history['loss'], label='train loss')\n",
    "plt.plot(r.history['val_loss'], label='val loss')\n",
    "plt.legend()\n",
    "plt.show()\n",
    "plt.savefig('LossVal_loss')"
   ]
  },
  {
   "cell_type": "code",
   "execution_count": 11,
   "metadata": {},
   "outputs": [
    {
     "data": {
      "image/png": "[encoded data removed]",
      "text/plain": [
       "<Figure size 432x288 with 1 Axes>"
      ]
     },
     "metadata": {
      "needs_background": "light"
     },
     "output_type": "display_data"
    },
    {
     "data": {
      "text/plain": [
       "<Figure size 432x288 with 0 Axes>"
      ]
     },
     "metadata": {},
     "output_type": "display_data"
    }
   ],
   "source": [
    "plt.plot(r.history['accuracy'], label='train acc')\n",
    "plt.plot(r.history['val_accuracy'], label='val acc')\n",
    "plt.legend()\n",
    "plt.show()\n",
    "plt.savefig('AccVal_acc')"
   ]
  },
  {
   "cell_type": "code",
   "execution_count": null,
   "metadata": {},
   "outputs": [],
   "source": []
  }
 ],
 "metadata": {
  "kernelspec": {
   "display_name": "Python 3",
   "language": "python",
   "name": "python3"
  },
  "language_info": {
   "codemirror_mode": {
    "name": "ipython",
    "version": 3
   },
   "file_extension": ".py",
   "mimetype": "text/x-python",
   "name": "python",
   "nbconvert_exporter": "python",
   "pygments_lexer": "ipython3",
   "version": "3.6.13"
  }
 },
 "nbformat": 4,
 "nbformat_minor": 4
}
